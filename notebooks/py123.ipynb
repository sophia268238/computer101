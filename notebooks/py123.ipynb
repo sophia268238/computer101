{
 "cells": [
  {
   "cell_type": "markdown",
   "id": "27a4a9f9-0035-432b-b94a-5a20019271e5",
   "metadata": {},
   "source": [
    "- This is a markdown cell!"
   ]
  },
  {
   "cell_type": "code",
   "execution_count": 1,
   "id": "772397a0-dba5-4be7-afe7-4211e588fdca",
   "metadata": {},
   "outputs": [
    {
     "name": "stdout",
     "output_type": "stream",
     "text": [
      "this is a code cell\n"
     ]
    }
   ],
   "source": [
    "print(\"this is a code cell\")"
   ]
  },
  {
   "cell_type": "markdown",
   "id": "106dcc09-bb4a-467b-9373-167c845ac780",
   "metadata": {},
   "source": [
    "# str operations"
   ]
  },
  {
   "cell_type": "markdown",
   "id": "51942803-688b-4472-a203-ec4f617c0b40",
   "metadata": {},
   "source": [
    "## Basic str operations"
   ]
  },
  {
   "cell_type": "code",
   "execution_count": 3,
   "id": "a92259ac-afd2-42f1-8a9b-ed992e12f70d",
   "metadata": {},
   "outputs": [],
   "source": [
    "# Assign \"abc\" to a variable abc"
   ]
  },
  {
   "cell_type": "code",
   "execution_count": null,
   "id": "36a2009d-20ef-47d6-b4e7-1610f2c2fdd1",
   "metadata": {},
   "outputs": [],
   "source": [
    "# Change the value of abc into \"ABC\""
   ]
  },
  {
   "cell_type": "code",
   "execution_count": 5,
   "id": "5c007043-6f77-45e5-8bd7-3f5f77799109",
   "metadata": {},
   "outputs": [],
   "source": [
    "# Change the value of abc into \"Abc\""
   ]
  },
  {
   "cell_type": "code",
   "execution_count": null,
   "id": "d7c84701-ba76-4e54-89c0-c91c661c855c",
   "metadata": {},
   "outputs": [],
   "source": [
    "# Create a variable xyz with value \"XYZ\""
   ]
  },
  {
   "cell_type": "code",
   "execution_count": 9,
   "id": "a9f1253d-634d-41a6-a029-1a86c4b04a39",
   "metadata": {},
   "outputs": [],
   "source": [
    "# Concatenate the value of abc and xyz and assign it to a variable foo"
   ]
  },
  {
   "cell_type": "code",
   "execution_count": 16,
   "id": "cbe429be-2b19-4afc-9206-072cd43360bf",
   "metadata": {},
   "outputs": [],
   "source": [
    "# Use single quote to create a str"
   ]
  },
  {
   "cell_type": "code",
   "execution_count": 20,
   "id": "64b2c452-7c48-4c79-8754-16d0830eacf5",
   "metadata": {},
   "outputs": [],
   "source": [
    "# Use triple quotes to create a multiple line str"
   ]
  },
  {
   "cell_type": "markdown",
   "id": "1d51cd66-8769-4a68-b3f5-f742d0fc5ef8",
   "metadata": {},
   "source": [
    "## f-format str"
   ]
  },
  {
   "cell_type": "code",
   "execution_count": 15,
   "id": "fc60ca91-bea7-4ef3-900d-a1b10cead7c8",
   "metadata": {},
   "outputs": [],
   "source": [
    "# Given a variable name=\"Teddy\", use f-format to create the string \"Hello, Teddy!\""
   ]
  },
  {
   "cell_type": "markdown",
   "id": "f747dba6-21ca-42b6-a31c-eaa6376a42e0",
   "metadata": {},
   "source": [
    "# number operations"
   ]
  }
 ],
 "metadata": {
  "kernelspec": {
   "display_name": "Python 3 (ipykernel)",
   "language": "python",
   "name": "python3"
  },
  "language_info": {
   "codemirror_mode": {
    "name": "ipython",
    "version": 3
   },
   "file_extension": ".py",
   "mimetype": "text/x-python",
   "name": "python",
   "nbconvert_exporter": "python",
   "pygments_lexer": "ipython3",
   "version": "3.12.3"
  }
 },
 "nbformat": 4,
 "nbformat_minor": 5
}
